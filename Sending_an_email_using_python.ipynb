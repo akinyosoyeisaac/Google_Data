{
  "nbformat": 4,
  "nbformat_minor": 0,
  "metadata": {
    "colab": {
      "name": "Sending an email using python.ipynb",
      "provenance": [],
      "authorship_tag": "ABX9TyOPwFKSc2vNbEv78Wwo10iS",
      "include_colab_link": true
    },
    "kernelspec": {
      "name": "python3",
      "display_name": "Python 3"
    }
  },
  "cells": [
    {
      "cell_type": "markdown",
      "metadata": {
        "id": "view-in-github",
        "colab_type": "text"
      },
      "source": [
        "<a href=\"https://colab.research.google.com/github/akinyosoyeisaac/Google_Data/blob/master/Sending_an_email_using_python.ipynb\" target=\"_parent\"><img src=\"https://colab.research.google.com/assets/colab-badge.svg\" alt=\"Open In Colab\"/></a>"
      ]
    },
    {
      "cell_type": "code",
      "metadata": {
        "id": "pVs2PtoVxtbu"
      },
      "source": [
        "import smtplib \n",
        "from email.message import EmailMessage"
      ],
      "execution_count": 1,
      "outputs": []
    },
    {
      "cell_type": "code",
      "metadata": {
        "id": "D7k6XiRlyI7h"
      },
      "source": [
        "email_address = 'akinyosoyeisaac@gmail.com'\n",
        "password = 'swxbwabfpossqpjv'"
      ],
      "execution_count": 2,
      "outputs": []
    },
    {
      "cell_type": "code",
      "metadata": {
        "id": "z2zib51XyeLG"
      },
      "source": [
        "msg = EmailMessage()\n",
        "msg['From'] = email_address\n",
        "msg['To'] = 'akinyosoyeisaac@yahoo.com'\n",
        "msg['Subject'] = 'practicing how to send email using python'\n",
        "msg.set_content('And it actually works')"
      ],
      "execution_count": 3,
      "outputs": []
    },
    {
      "cell_type": "code",
      "metadata": {
        "id": "U2saljwuzwdm"
      },
      "source": [
        "with smtplib.SMTP_SSL('smtp.gmail.com', 465) as smtp:\n",
        "    smtp.login(email_address, password) \n",
        "    smtp.send_message(msg)"
      ],
      "execution_count": 4,
      "outputs": []
    }
  ]
}